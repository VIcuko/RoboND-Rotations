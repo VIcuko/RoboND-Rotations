{
 "cells": [
  {
   "cell_type": "code",
   "execution_count": 6,
   "metadata": {
    "collapsed": true
   },
   "outputs": [],
   "source": [
    "# First we import SymPy and numpy\n",
    "from sympy import symbols, cos, sin, pi, simplify\n",
    "from sympy.matrices import Matrix\n",
    "import numpy as np"
   ]
  },
  {
   "cell_type": "code",
   "execution_count": 7,
   "metadata": {
    "collapsed": true
   },
   "outputs": [],
   "source": [
    "### Create symbols for joint variables\n",
    "q1, q2, q3, q4 = symbols('q1:5') # remember slices do not include the end value \n",
    "# unrelated symbols can be defined like this:\n",
    "A, R, O, C = symbols('A R O C')"
   ]
  },
  {
   "cell_type": "code",
   "execution_count": 10,
   "metadata": {},
   "outputs": [],
   "source": [
    "# Conversion Factors\n",
    "rtd = 180./np.pi # radians to degrees\n",
    "dtr = np.pi/180. # degrees to radians"
   ]
  },
  {
   "cell_type": "code",
   "execution_count": 11,
   "metadata": {
    "collapsed": true
   },
   "outputs": [],
   "source": [
    "R_x = Matrix([[ 1,              0,        0],\n",
    "              [ 0,        cos(q1), -sin(q1)],\n",
    "              [ 0,        sin(q1),  cos(q1)]])\n",
    "\n",
    "R_y = Matrix([[ cos(q2),        0,  sin(q2)],\n",
    "              [       0,        1,        0],\n",
    "              [-sin(q2),        0,  cos(q2)]])\n",
    "\n",
    "R_z = Matrix([[ cos(q3), -sin(q3),        0],\n",
    "              [ sin(q3),  cos(q3),        0],\n",
    "              [ 0,              0,        1]])"
   ]
  },
  {
   "cell_type": "code",
   "execution_count": 13,
   "metadata": {},
   "outputs": [
    {
     "name": "stdout",
     "output_type": "stream",
     "text": [
      "Rotation about the X-axis by 45-degrees\n",
      "Matrix([[1.00000000000000, 0, 0], [0, 0.707106781186548, -0.707106781186547], [0, 0.707106781186547, 0.707106781186548]])\n",
      "Rotation about the y-axis by 45-degrees\n",
      "Matrix([[0.707106781186548, 0, 0.707106781186547], [0, 1.00000000000000, 0], [-0.707106781186547, 0, 0.707106781186548]])\n",
      "Rotation about the Z-axis by 30-degrees\n",
      "Matrix([[0.866025403784439, -0.500000000000000, 0], [0.500000000000000, 0.866025403784439, 0], [0, 0, 1.00000000000000]])\n"
     ]
    }
   ],
   "source": [
    "print(\"Rotation about the X-axis by 45-degrees\")\n",
    "print(R_x.evalf(subs={q1: 45*dtr}))\n",
    "print(\"Rotation about the y-axis by 45-degrees\")\n",
    "print(R_y.evalf(subs={q2: 45*dtr}))\n",
    "print(\"Rotation about the Z-axis by 30-degrees\")\n",
    "print(R_z.evalf(subs={q3: 30*dtr}))"
   ]
  },
  {
   "cell_type": "code",
   "execution_count": 14,
   "metadata": {
    "collapsed": true
   },
   "outputs": [],
   "source": [
    "R_XYZ = Matrix([[ 0.353553390593274, -0.306186217847897, 0.883883476483184],\n",
    "            [ 0.353553390593274,  0.918558653543692, 0.176776695296637],\n",
    "            [-0.866025403784439,               0.25, 0.433012701892219]])"
   ]
  },
  {
   "cell_type": "code",
   "execution_count": 20,
   "metadata": {},
   "outputs": [
    {
     "data": {
      "text/plain": [
       "0.433012701892219"
      ]
     },
     "execution_count": 20,
     "metadata": {},
     "output_type": "execute_result"
    }
   ],
   "source": [
    "R_XYZ[2,2]"
   ]
  }
 ],
 "metadata": {
  "kernelspec": {
   "display_name": "Python 3",
   "language": "python",
   "name": "python3"
  },
  "language_info": {
   "codemirror_mode": {
    "name": "ipython",
    "version": 3
   },
   "file_extension": ".py",
   "mimetype": "text/x-python",
   "name": "python",
   "nbconvert_exporter": "python",
   "pygments_lexer": "ipython3",
   "version": "3.5.2"
  },
  "widgets": {
   "state": {},
   "version": "1.1.2"
  }
 },
 "nbformat": 4,
 "nbformat_minor": 2
}
